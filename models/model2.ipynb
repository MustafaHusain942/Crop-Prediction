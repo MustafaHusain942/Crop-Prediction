{
 "cells": [
  {
   "cell_type": "code",
   "execution_count": 2,
   "metadata": {},
   "outputs": [],
   "source": [
    "import pandas as pd\n",
    "import numpy as np\n",
    "import matplotlib.pyplot as plt\n",
    "import seaborn as sns\n",
    "from sklearn.model_selection import train_test_split, RandomizedSearchCV\n",
    "from sklearn.preprocessing import StandardScaler, LabelEncoder\n",
    "from sklearn.ensemble import RandomForestRegressor\n",
    "import xgboost as xgb\n",
    "from sklearn.metrics import mean_absolute_error, mean_squared_error, r2_score\n",
    "from statsmodels.tsa.statespace.sarimax import SARIMAX"
   ]
  },
  {
   "cell_type": "code",
   "execution_count": 3,
   "metadata": {},
   "outputs": [],
   "source": [
    "dataset = pd.read_csv(\"Price_Agriculture_commodities_Week.csv\")"
   ]
  },
  {
   "cell_type": "code",
   "execution_count": 4,
   "metadata": {},
   "outputs": [
    {
     "name": "stdout",
     "output_type": "stream",
     "text": [
      "<class 'pandas.core.frame.DataFrame'>\n",
      "RangeIndex: 23093 entries, 0 to 23092\n",
      "Data columns (total 10 columns):\n",
      " #   Column        Non-Null Count  Dtype  \n",
      "---  ------        --------------  -----  \n",
      " 0   State         23093 non-null  object \n",
      " 1   District      23093 non-null  object \n",
      " 2   Market        23093 non-null  object \n",
      " 3   Commodity     23093 non-null  object \n",
      " 4   Variety       23093 non-null  object \n",
      " 5   Grade         23093 non-null  object \n",
      " 6   Arrival_Date  23093 non-null  object \n",
      " 7   Min Price     23093 non-null  float64\n",
      " 8   Max Price     23093 non-null  float64\n",
      " 9   Modal Price   23093 non-null  float64\n",
      "dtypes: float64(3), object(7)\n",
      "memory usage: 1.8+ MB\n"
     ]
    }
   ],
   "source": [
    "dataset.info()"
   ]
  },
  {
   "cell_type": "code",
   "execution_count": 5,
   "metadata": {},
   "outputs": [
    {
     "data": {
      "text/plain": [
       "State           0\n",
       "District        0\n",
       "Market          0\n",
       "Commodity       0\n",
       "Variety         0\n",
       "Grade           0\n",
       "Arrival_Date    0\n",
       "Min Price       0\n",
       "Max Price       0\n",
       "Modal Price     0\n",
       "dtype: int64"
      ]
     },
     "execution_count": 5,
     "metadata": {},
     "output_type": "execute_result"
    }
   ],
   "source": [
    "dataset.isna().sum()"
   ]
  },
  {
   "cell_type": "code",
   "execution_count": 6,
   "metadata": {},
   "outputs": [
    {
     "data": {
      "text/html": [
       "<div>\n",
       "<style scoped>\n",
       "    .dataframe tbody tr th:only-of-type {\n",
       "        vertical-align: middle;\n",
       "    }\n",
       "\n",
       "    .dataframe tbody tr th {\n",
       "        vertical-align: top;\n",
       "    }\n",
       "\n",
       "    .dataframe thead th {\n",
       "        text-align: right;\n",
       "    }\n",
       "</style>\n",
       "<table border=\"1\" class=\"dataframe\">\n",
       "  <thead>\n",
       "    <tr style=\"text-align: right;\">\n",
       "      <th></th>\n",
       "      <th>Min Price</th>\n",
       "      <th>Max Price</th>\n",
       "      <th>Modal Price</th>\n",
       "    </tr>\n",
       "  </thead>\n",
       "  <tbody>\n",
       "    <tr>\n",
       "      <th>count</th>\n",
       "      <td>23093.000000</td>\n",
       "      <td>23093.000000</td>\n",
       "      <td>23093.000000</td>\n",
       "    </tr>\n",
       "    <tr>\n",
       "      <th>mean</th>\n",
       "      <td>4187.077045</td>\n",
       "      <td>4976.034260</td>\n",
       "      <td>4602.917742</td>\n",
       "    </tr>\n",
       "    <tr>\n",
       "      <th>std</th>\n",
       "      <td>5472.783385</td>\n",
       "      <td>6277.308057</td>\n",
       "      <td>5843.822711</td>\n",
       "    </tr>\n",
       "    <tr>\n",
       "      <th>min</th>\n",
       "      <td>0.000000</td>\n",
       "      <td>0.000000</td>\n",
       "      <td>0.830000</td>\n",
       "    </tr>\n",
       "    <tr>\n",
       "      <th>25%</th>\n",
       "      <td>1750.000000</td>\n",
       "      <td>2000.000000</td>\n",
       "      <td>1955.000000</td>\n",
       "    </tr>\n",
       "    <tr>\n",
       "      <th>50%</th>\n",
       "      <td>2725.000000</td>\n",
       "      <td>3400.000000</td>\n",
       "      <td>3000.000000</td>\n",
       "    </tr>\n",
       "    <tr>\n",
       "      <th>75%</th>\n",
       "      <td>5000.000000</td>\n",
       "      <td>6000.000000</td>\n",
       "      <td>5500.000000</td>\n",
       "    </tr>\n",
       "    <tr>\n",
       "      <th>max</th>\n",
       "      <td>223500.000000</td>\n",
       "      <td>227500.000000</td>\n",
       "      <td>225500.000000</td>\n",
       "    </tr>\n",
       "  </tbody>\n",
       "</table>\n",
       "</div>"
      ],
      "text/plain": [
       "           Min Price      Max Price    Modal Price\n",
       "count   23093.000000   23093.000000   23093.000000\n",
       "mean     4187.077045    4976.034260    4602.917742\n",
       "std      5472.783385    6277.308057    5843.822711\n",
       "min         0.000000       0.000000       0.830000\n",
       "25%      1750.000000    2000.000000    1955.000000\n",
       "50%      2725.000000    3400.000000    3000.000000\n",
       "75%      5000.000000    6000.000000    5500.000000\n",
       "max    223500.000000  227500.000000  225500.000000"
      ]
     },
     "execution_count": 6,
     "metadata": {},
     "output_type": "execute_result"
    }
   ],
   "source": [
    "dataset.describe()"
   ]
  },
  {
   "cell_type": "code",
   "execution_count": 7,
   "metadata": {},
   "outputs": [
    {
     "data": {
      "text/plain": [
       "Commodity\n",
       "Potato                   1205\n",
       "Onion                    1134\n",
       "Brinjal                  1033\n",
       "Green Chilli              931\n",
       "Bhindi(Ladies Finger)     860\n",
       "Cucumbar(Kheera)          712\n",
       "Bottle gourd              693\n",
       "Tomato                    671\n",
       "Banana                    669\n",
       "Wheat                     639\n",
       "Name: count, dtype: int64"
      ]
     },
     "execution_count": 7,
     "metadata": {},
     "output_type": "execute_result"
    }
   ],
   "source": [
    "dataset[\"Commodity\"].value_counts().head(10)"
   ]
  },
  {
   "cell_type": "code",
   "execution_count": 8,
   "metadata": {},
   "outputs": [
    {
     "data": {
      "image/png": "[encoded data removed]",
      "text/plain": [
       "<Figure size 1200x600 with 1 Axes>"
      ]
     },
     "metadata": {},
     "output_type": "display_data"
    }
   ],
   "source": [
    "plt.figure(figsize=(12, 6))\n",
    "sns.boxplot(x='State', y='Modal Price', data=dataset)\n",
    "plt.xticks(rotation=90)\n",
    "plt.title(\"Price Variation Across States\")\n",
    "plt.show()"
   ]
  },
  {
   "cell_type": "code",
   "execution_count": 9,
   "metadata": {},
   "outputs": [
    {
     "data": {
      "image/png": "[encoded data removed]",
      "text/plain": [
       "<Figure size 1200x600 with 1 Axes>"
      ]
     },
     "metadata": {},
     "output_type": "display_data"
    }
   ],
   "source": [
    "plt.figure(figsize=(12, 6))\n",
    "sns.boxplot(x=dataset['Modal Price'])\n",
    "plt.title(\"Boxplot of Modal Price to Detect Outliers\")\n",
    "plt.show()"
   ]
  },
  {
   "cell_type": "code",
   "execution_count": 10,
   "metadata": {},
   "outputs": [
    {
     "name": "stdout",
     "output_type": "stream",
     "text": [
      "Retained 82 commodities after filtering.\n"
     ]
    }
   ],
   "source": [
    "# Filter commodities that have at least 50 occurrences\n",
    "commodity_counts = dataset[\"Commodity\"].value_counts()\n",
    "valid_commodities = commodity_counts[commodity_counts >= 50].index\n",
    "dataset = dataset[dataset[\"Commodity\"].isin(valid_commodities)]\n",
    "\n",
    "# Print the number of commodities retained\n",
    "print(f\"Retained {len(valid_commodities)} commodities after filtering.\")"
   ]
  },
  {
   "cell_type": "code",
   "execution_count": 11,
   "metadata": {},
   "outputs": [
    {
     "name": "stderr",
     "output_type": "stream",
     "text": [
      "C:\\Users\\laxmi\\AppData\\Local\\Temp\\ipykernel_15016\\983153863.py:2: UserWarning: Parsing dates in %d-%m-%Y format when dayfirst=False (the default) was specified. Pass `dayfirst=True` or specify a format to silence this warning.\n",
      "  dataset['Arrival_Date'] = pd.to_datetime(dataset['Arrival_Date'])\n"
     ]
    }
   ],
   "source": [
    "dataset.dropna(inplace=True)\n",
    "dataset['Arrival_Date'] = pd.to_datetime(dataset['Arrival_Date'])"
   ]
  },
  {
   "cell_type": "code",
   "execution_count": 12,
   "metadata": {},
   "outputs": [],
   "source": [
    "categorical_cols = dataset.select_dtypes(include=['object']).columns\n",
    "\n",
    "# Create a dictionary to store label encoders for future reference if needed (e.g., for test data)\n",
    "label_encoders = {}\n",
    "\n",
    "# Loop over each categorical column and apply LabelEncoder\n",
    "for col in categorical_cols:\n",
    "    le = LabelEncoder()\n",
    "    dataset[col] = le.fit_transform(dataset[col])\n",
    "    label_encoders[col] = le"
   ]
  },
  {
   "cell_type": "code",
   "execution_count": 13,
   "metadata": {},
   "outputs": [],
   "source": [
    "# Feature Engineering\n",
    "dataset['Year'] = dataset['Arrival_Date'].dt.year\n",
    "dataset['Month'] = dataset['Arrival_Date'].dt.month\n",
    "dataset['DayOfWeek'] = dataset['Arrival_Date'].dt.dayofweek"
   ]
  },
  {
   "cell_type": "code",
   "execution_count": 14,
   "metadata": {},
   "outputs": [
    {
     "name": "stdout",
     "output_type": "stream",
     "text": [
      "Dataset shape after outlier removal: (20381, 13)\n"
     ]
    }
   ],
   "source": [
    "# Remove Outliers using IQR Method\n",
    "Q1 = dataset['Modal Price'].quantile(0.25)\n",
    "Q3 = dataset['Modal Price'].quantile(0.75)\n",
    "IQR = Q3 - Q1\n",
    "\n",
    "lower_bound = Q1 - 1.5 * IQR\n",
    "upper_bound = Q3 + 1.5 * IQR\n",
    "\n",
    "dataset = dataset[(dataset['Modal Price'] >= lower_bound) & (dataset['Modal Price'] <= upper_bound)]\n",
    "\n",
    "# Print shape after outlier removal\n",
    "print(f\"Dataset shape after outlier removal: {dataset.shape}\")\n"
   ]
  },
  {
   "cell_type": "code",
   "execution_count": 15,
   "metadata": {},
   "outputs": [],
   "source": [
    "# Define Features and Target\n",
    "X = dataset.drop(columns=['Modal Price', 'Arrival_Date','Max Price', 'Min Price'])\n",
    "y = dataset['Modal Price']"
   ]
  },
  {
   "cell_type": "code",
   "execution_count": 16,
   "metadata": {},
   "outputs": [],
   "source": [
    "# Split Data\n",
    "X_train, X_test, y_train, y_test = train_test_split(X, y, test_size=0.2, random_state=42)"
   ]
  },
  {
   "cell_type": "code",
   "execution_count": 17,
   "metadata": {},
   "outputs": [],
   "source": [
    "# Standardize Features\n",
    "scaler = StandardScaler()\n",
    "X_train_scaled = scaler.fit_transform(X_train)\n",
    "X_test_scaled = scaler.transform(X_test)\n"
   ]
  },
  {
   "cell_type": "code",
   "execution_count": 18,
   "metadata": {},
   "outputs": [
    {
     "name": "stdout",
     "output_type": "stream",
     "text": [
      "\n",
      "Random Forest Results:\n",
      "  R² Score: 0.8592\n",
      "  MAE: 510.86\n",
      "  RMSE: 873.03\n"
     ]
    }
   ],
   "source": [
    "# Train Random Forest Model\n",
    "rf_model = RandomForestRegressor(n_estimators=100, random_state=42)\n",
    "rf_model.fit(X_train_scaled, y_train)\n",
    "# Predict\n",
    "y_pred_rf = rf_model.predict(X_test_scaled)\n",
    "\n",
    "# Evaluate\n",
    "print(\"\\nRandom Forest Results:\")\n",
    "print(f\"  R² Score: {r2_score(y_test, y_pred_rf):.4f}\")\n",
    "print(f\"  MAE: {mean_absolute_error(y_test, y_pred_rf):.2f}\")\n",
    "print(f\"  RMSE: {np.sqrt(mean_squared_error(y_test, y_pred_rf)):.2f}\")"
   ]
  },
  {
   "cell_type": "code",
   "execution_count": 19,
   "metadata": {},
   "outputs": [
    {
     "name": "stdout",
     "output_type": "stream",
     "text": [
      "\n",
      "XGBoost Results:\n",
      "  R² Score: 0.8458\n",
      "  MAE: 591.18\n",
      "  RMSE: 913.77\n"
     ]
    }
   ],
   "source": [
    "# Train XGBoost Model\n",
    "xgb_model = xgb.XGBRegressor(objective=\"reg:squarederror\", random_state=42)\n",
    "xgb_model.fit(X_train_scaled, y_train)\n",
    "\n",
    "# Predict\n",
    "y_pred_xgb = xgb_model.predict(X_test_scaled)\n",
    "\n",
    "# Evaluate\n",
    "print(\"\\nXGBoost Results:\")\n",
    "print(f\"  R² Score: {r2_score(y_test, y_pred_xgb):.4f}\")\n",
    "print(f\"  MAE: {mean_absolute_error(y_test, y_pred_xgb):.2f}\")\n",
    "print(f\"  RMSE: {np.sqrt(mean_squared_error(y_test, y_pred_xgb)):.2f}\")"
   ]
  },
  {
   "cell_type": "code",
   "execution_count": 20,
   "metadata": {},
   "outputs": [
    {
     "name": "stdout",
     "output_type": "stream",
     "text": [
      "Fitting 3 folds for each of 20 candidates, totalling 60 fits\n",
      "\n",
      "Best Random Forest Parameters: {'max_depth': 28, 'min_samples_leaf': 3, 'min_samples_split': 3, 'n_estimators': 137}\n",
      "\n",
      "Random Forest Results:\n",
      "  R² Score: 0.8395\n",
      "  MAE: 566.39\n",
      "  RMSE: 932.11\n"
     ]
    }
   ],
   "source": [
    "from scipy.stats import randint\n",
    "from sklearn.model_selection import RandomizedSearchCV\n",
    "# Define Hyperparameter Grid for Random Forest\n",
    "rf_param_grid = {\n",
    "    'n_estimators': randint(50, 300),  # Number of trees\n",
    "    'max_depth': randint(5, 30),       # Depth of trees\n",
    "    'min_samples_split': randint(2, 20),\n",
    "    'min_samples_leaf': randint(1, 10)\n",
    "}\n",
    "\n",
    "# Randomized Search for Random Forest\n",
    "rf_model = RandomForestRegressor(random_state=42)\n",
    "rf_random_search = RandomizedSearchCV(\n",
    "    estimator=rf_model,\n",
    "    param_distributions=rf_param_grid,\n",
    "    n_iter=20,  # Limit iterations for speed\n",
    "    cv=3, \n",
    "    verbose=1, \n",
    "    n_jobs=4,\n",
    "    random_state=42\n",
    ")\n",
    "rf_random_search.fit(X_train_scaled, y_train)\n",
    "\n",
    "# Best RF Model\n",
    "best_rf = rf_random_search.best_estimator_\n",
    "print(\"\\nBest Random Forest Parameters:\", rf_random_search.best_params_)\n",
    "\n",
    "# Evaluate Best RF Model\n",
    "y_pred_rf = best_rf.predict(X_test_scaled)\n",
    "r2_rf = r2_score(y_test, y_pred_rf)\n",
    "mae_rf = mean_absolute_error(y_test, y_pred_rf)\n",
    "rmse_rf = np.sqrt(mean_squared_error(y_test, y_pred_rf))\n",
    "\n",
    "print(\"\\nRandom Forest Results:\")\n",
    "print(f\"  R² Score: {r2_rf:.4f}\")\n",
    "print(f\"  MAE: {mae_rf:.2f}\")\n",
    "print(f\"  RMSE: {rmse_rf:.2f}\")"
   ]
  },
  {
   "cell_type": "code",
   "execution_count": 22,
   "metadata": {},
   "outputs": [
    {
     "name": "stdout",
     "output_type": "stream",
     "text": [
      "Fitting 3 folds for each of 108 candidates, totalling 324 fits\n",
      "Best XGBoost Parameters: {'colsample_bytree': 0.8, 'learning_rate': 0.1, 'max_depth': 9, 'n_estimators': 200, 'subsample': 0.8}\n",
      "R² Score: 0.8757862282472604\n",
      "MAE: 509.73980514342975\n",
      "RMSE: 820.0700046492399\n"
     ]
    }
   ],
   "source": [
    "import xgboost as xgb\n",
    "from sklearn.model_selection import GridSearchCV\n",
    "from sklearn.metrics import r2_score, mean_absolute_error, mean_squared_error\n",
    "import numpy as np\n",
    "\n",
    "# Define your hyperparameter grid\n",
    "xgb_param_grid = {\n",
    "    'n_estimators': [50, 100, 200],\n",
    "    'max_depth': [3, 6, 9],\n",
    "    'learning_rate': [0.01, 0.1, 0.3],\n",
    "    'subsample': [0.8, 1.0],\n",
    "    'colsample_bytree': [0.8, 1.0]\n",
    "}\n",
    "\n",
    "# Initialize XGBRegressor with GPU acceleration\n",
    "# - tree_method='gpu_hist' enables GPU support.\n",
    "# - n_jobs limits the number of CPU threads used during training.\n",
    "xgb_model = xgb.XGBRegressor(\n",
    "    objective='reg:squarederror',\n",
    "    tree_method='hist',  # Use GPU acceleration\n",
    "    n_jobs=2,               # Limit CPU threads per training job\n",
    "    random_state=42\n",
    ")\n",
    "\n",
    "# Set up GridSearchCV with limited parallelism.\n",
    "# Here, n_jobs=2 ensures that only 2 parallel jobs are run at a time.\n",
    "xgb_grid_search = GridSearchCV(\n",
    "    estimator=xgb_model,\n",
    "    param_grid=xgb_param_grid,\n",
    "    cv=3,           # 3-fold cross-validation\n",
    "    verbose=1,\n",
    "    n_jobs=4        # Limit the number of parallel jobs in grid search\n",
    ")\n",
    "\n",
    "# Assuming X_train_scaled and y_train have been defined from your data preprocessing pipeline,\n",
    "# fit the grid search to your training data.\n",
    "xgb_grid_search.fit(X_train_scaled, y_train)\n",
    "\n",
    "# Retrieve and print the best parameters\n",
    "best_xgb = xgb_grid_search.best_estimator_\n",
    "print(\"Best XGBoost Parameters:\", xgb_grid_search.best_params_)\n",
    "\n",
    "# Evaluate the best estimator on test data (assuming X_test_scaled and y_test are defined)\n",
    "y_pred = best_xgb.predict(X_test_scaled)\n",
    "print(\"R² Score:\", r2_score(y_test, y_pred))\n",
    "print(\"MAE:\", mean_absolute_error(y_test, y_pred))\n",
    "print(\"RMSE:\", np.sqrt(mean_squared_error(y_test, y_pred)))\n"
   ]
  },
  {
   "cell_type": "code",
   "execution_count": 24,
   "metadata": {},
   "outputs": [],
   "source": [
    "# Assuming rf_model is defined and X_train_scaled, y_train are your training data\n",
    "rf_model.fit(X_train_scaled, y_train)\n",
    "\n",
    "# Now you can make predictions\n",
    "y_pred_rf = rf_model.predict(X_test_scaled)\n",
    "\n",
    "# Get Predictions from the Best Tuned XGBoost Model\n",
    "y_pred_xgb = best_xgb.predict(X_test_scaled)"
   ]
  },
  {
   "cell_type": "code",
   "execution_count": 25,
   "metadata": {},
   "outputs": [],
   "source": [
    "# Simple Averaging Ensemble\n",
    "y_pred_avg = (y_pred_rf + y_pred_xgb) / 2\n"
   ]
  },
  {
   "cell_type": "code",
   "execution_count": 27,
   "metadata": {},
   "outputs": [],
   "source": [
    "# Adjust weights based on model performance (you can tweak these)\n",
    "weight_rf = 0.4  \n",
    "weight_xgb = 0.6  \n",
    "\n",
    "# Weighted Average\n",
    "y_pred_weighted = (weight_rf * y_pred_rf) + (weight_xgb * y_pred_xgb)\n"
   ]
  },
  {
   "cell_type": "code",
   "execution_count": 28,
   "metadata": {},
   "outputs": [],
   "source": [
    "from sklearn.linear_model import LinearRegression\n",
    "\n",
    "# Stack predictions as features for meta-model\n",
    "stacked_X = np.column_stack((y_pred_rf, y_pred_xgb))\n",
    "\n",
    "# Train a meta-model (Linear Regression)\n",
    "meta_model = LinearRegression()\n",
    "meta_model.fit(stacked_X, y_test)\n",
    "\n",
    "# Predict using the stacking model\n",
    "y_pred_stack = meta_model.predict(stacked_X)\n"
   ]
  },
  {
   "cell_type": "code",
   "execution_count": 29,
   "metadata": {},
   "outputs": [
    {
     "name": "stdout",
     "output_type": "stream",
     "text": [
      "\n",
      "Random Forest Results:\n",
      "  R² Score: 0.8592\n",
      "  MAE: 510.86\n",
      "  RMSE: 873.03\n",
      "\n",
      "XGBoost Results:\n",
      "  R² Score: 0.8758\n",
      "  MAE: 509.74\n",
      "  RMSE: 820.07\n",
      "\n",
      "Simple Averaging Ensemble Results:\n",
      "  R² Score: 0.8764\n",
      "  MAE: 489.17\n",
      "  RMSE: 818.11\n",
      "\n",
      "Weighted Averaging Ensemble Results:\n",
      "  R² Score: 0.8777\n",
      "  MAE: 489.75\n",
      "  RMSE: 813.79\n",
      "\n",
      "Stacking Ensemble Results:\n",
      "  R² Score: 0.8790\n",
      "  MAE: 489.53\n",
      "  RMSE: 809.30\n"
     ]
    }
   ],
   "source": [
    "# Function to Evaluate Models\n",
    "def evaluate_model(y_true, y_pred, model_name):\n",
    "    print(f\"\\n{model_name} Results:\")\n",
    "    print(f\"  R² Score: {r2_score(y_true, y_pred):.4f}\")\n",
    "    print(f\"  MAE: {mean_absolute_error(y_true, y_pred):.2f}\")\n",
    "    print(f\"  RMSE: {np.sqrt(mean_squared_error(y_true, y_pred)):.2f}\")\n",
    "\n",
    "# Evaluate Individual Models\n",
    "evaluate_model(y_test, y_pred_rf, \"Random Forest\")\n",
    "evaluate_model(y_test, y_pred_xgb, \"XGBoost\")\n",
    "\n",
    "# Evaluate Ensemble Models\n",
    "evaluate_model(y_test, y_pred_avg, \"Simple Averaging Ensemble\")\n",
    "evaluate_model(y_test, y_pred_weighted, \"Weighted Averaging Ensemble\")\n",
    "evaluate_model(y_test, y_pred_stack, \"Stacking Ensemble\")\n"
   ]
  },
  {
   "cell_type": "code",
   "execution_count": 30,
   "metadata": {},
   "outputs": [],
   "source": [
    "import pickle\n",
    "\n",
    "\n",
    "ensemble = {\n",
    "    'rf_model': rf_model,       # Use the tuned Random Forest\n",
    "    'xgb_model': best_xgb,     # Tuned XGBoost model\n",
    "    'meta_model': meta_model,  # Stacking meta-model\n",
    "    'scaler': scaler,\n",
    "    'label_encoders': label_encoders,  # Save encoders for deployment\n",
    "    'feature_columns': X.columns.tolist()  # Save feature order\n",
    "}\n",
    "\n",
    "with open('stacking_ensemble_model.pkl', 'wb') as f:\n",
    "    pickle.dump(ensemble, f)"
   ]
  },
  {
   "cell_type": "code",
   "execution_count": 31,
   "metadata": {},
   "outputs": [
    {
     "name": "stdout",
     "output_type": "stream",
     "text": [
      "Sample Input Shape: (9,)\n",
      "Sample Input Values: [  26  149 1061   70  251    0 2023    7    6]\n"
     ]
    }
   ],
   "source": [
    "# Extract a real row from X_train (first row as an example)\n",
    "sample_input = X_train.iloc[0].values  # Convert to numpy array\n",
    "\n",
    "# Print shape and values to verify\n",
    "print(\"Sample Input Shape:\", sample_input.shape)  # Should match the StandardScaler shape\n",
    "print(\"Sample Input Values:\", sample_input)\n"
   ]
  }
 ],
 "metadata": {
  "kernelspec": {
   "display_name": "Python 3",
   "language": "python",
   "name": "python3"
  },
  "language_info": {
   "codemirror_mode": {
    "name": "ipython",
    "version": 3
   },
   "file_extension": ".py",
   "mimetype": "text/x-python",
   "name": "python",
   "nbconvert_exporter": "python",
   "pygments_lexer": "ipython3",
   "version": "3.13.1"
  }
 },
 "nbformat": 4,
 "nbformat_minor": 2
}
